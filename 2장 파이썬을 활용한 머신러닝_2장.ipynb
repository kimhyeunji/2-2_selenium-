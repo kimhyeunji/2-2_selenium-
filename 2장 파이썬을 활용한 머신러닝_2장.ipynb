{
 "cells": [
  {
   "cell_type": "markdown",
   "id": "55746252",
   "metadata": {},
   "source": [
    "# 2-1 파이썬으로 로그인하기"
   ]
  },
  {
   "cell_type": "code",
   "execution_count": 9,
   "id": "99c0a3c3",
   "metadata": {},
   "outputs": [
    {
     "name": "stdout",
     "output_type": "stream",
     "text": [
      "마일리지: 2,000\n",
      "이코인: 0\n"
     ]
    }
   ],
   "source": [
    "# 로그인을 위한 모듈 추출하기\n",
    "import requests\n",
    "from bs4 import BeautifulSoup \n",
    "from urllib.parse import urljoin\n",
    "\n",
    "# 아이디와 비밀번호 지정하기[자신의 것을 사용해주세요] --- (※1)  \n",
    "USER = \"<아이디>\"\n",
    "PASS = \"<비번>\"\n",
    "\n",
    "# 세션 시작하기 --- (※2)  \n",
    "session = requests.session()\n",
    "# 로그인하기 --- (※3)  \n",
    "login_info = {\n",
    "\"m_id\": USER, # 아이디 지정  \n",
    "\"m_passwd\": PASS # 비밀번호 지정\n",
    "}\n",
    "\n",
    "url_login = \"https://www.hanbit.co.kr/member/login_proc.php\"\n",
    "res = session.post(url_login, data=login_info)  \n",
    "res.raise_for_status() # 오류가 발생하면 예외가 발생합니다.\n",
    "\n",
    "\n",
    "# 마이페이지에 접근하기 --- (※4)\n",
    "url_mypage = \"http://www.hanbit.co.kr/myhanbit/myhanbit.html\"  \n",
    "res = session.get(url_mypage)\n",
    "res.raise_for_status()\n",
    "\n",
    "\n",
    "# 마일리지와 이코인 가져오기 --- (※5)\n",
    "soup = BeautifulSoup(res.text, \"html.parser\")\n",
    "mileage = soup.select_one(\".mileage_section1 span\").get_text()  \n",
    "ecoin = soup.select_one(\".mileage_section2 span\").get_text()  \n",
    "print(\"마일리지: \" + mileage)\n",
    "print(\"이코인: \" + ecoin)\n",
    "\n"
   ]
  },
  {
   "cell_type": "markdown",
   "id": "54eebcf2",
   "metadata": {},
   "source": [
    "# 2-2 웹 브라우저를 이용한 스크레이핑"
   ]
  },
  {
   "cell_type": "markdown",
   "id": "af622577",
   "metadata": {},
   "source": [
    "## 웹 사이트를 이미지로 캡처해보기"
   ]
  },
  {
   "cell_type": "code",
   "execution_count": 11,
   "id": "aafaca25",
   "metadata": {},
   "outputs": [
    {
     "ename": "ModuleNotFoundError",
     "evalue": "No module named 'selenium'",
     "output_type": "error",
     "traceback": [
      "\u001b[1;31m---------------------------------------------------------------------------\u001b[0m",
      "\u001b[1;31mModuleNotFoundError\u001b[0m                       Traceback (most recent call last)",
      "\u001b[1;32m~\\AppData\\Local\\Temp\\ipykernel_11960\\2056789854.py\u001b[0m in \u001b[0;36m<module>\u001b[1;34m\u001b[0m\n\u001b[1;32m----> 1\u001b[1;33m \u001b[1;32mfrom\u001b[0m \u001b[0mselenium\u001b[0m\u001b[1;33m.\u001b[0m\u001b[0mwebdriver\u001b[0m \u001b[1;32mimport\u001b[0m \u001b[0mFirefox\u001b[0m\u001b[1;33m,\u001b[0m \u001b[0mFirefoxOptions\u001b[0m\u001b[1;33m\u001b[0m\u001b[1;33m\u001b[0m\u001b[0m\n\u001b[0m\u001b[0;32m      2\u001b[0m \u001b[1;33m\u001b[0m\u001b[0m\n\u001b[0;32m      3\u001b[0m \u001b[0murl\u001b[0m \u001b[1;33m=\u001b[0m \u001b[1;34m\"http://www.naver.com/\"\u001b[0m\u001b[1;33m\u001b[0m\u001b[1;33m\u001b[0m\u001b[0m\n\u001b[0;32m      4\u001b[0m \u001b[1;33m\u001b[0m\u001b[0m\n\u001b[0;32m      5\u001b[0m \u001b[1;31m# 파이어폭스를 헤드리스 모드로 설정하는 옵션 --- (※1)\u001b[0m\u001b[1;33m\u001b[0m\u001b[1;33m\u001b[0m\u001b[0m\n",
      "\u001b[1;31mModuleNotFoundError\u001b[0m: No module named 'selenium'"
     ]
    }
   ],
   "source": [
    "from selenium.webdriver import Firefox, FirefoxOptions\n",
    "\n",
    "url = \"http://www.naver.com/\"\n",
    "\n",
    "# 파이어폭스를 헤드리스 모드로 설정하는 옵션 --- (※1)\n",
    "options = FirefoxOptions()\n",
    "options.add_argument('-headless')\n",
    "\n",
    "# 파이어폭스 드라이버 추출 --- (※2)\n",
    "browser = Firefox(options=options)\n",
    "\n",
    "# URL 읽어 들이기 --- (※3)\n",
    "browser.get(url)\n",
    "# 화면을 캡처해서 저장 --- (※4)\n",
    "browser.save_screenshot(\"Website.png\")\n",
    "# 브라우저 종료 --- (※5)\n",
    "browser.quit()"
   ]
  },
  {
   "cell_type": "markdown",
   "id": "cb29bf67",
   "metadata": {},
   "source": [
    "## 네이버에 로그인 해서 구매한 물건 목록 가져오기\n"
   ]
  },
  {
   "cell_type": "code",
   "execution_count": 32,
   "id": "8f82df5b",
   "metadata": {},
   "outputs": [
    {
     "name": "stdout",
     "output_type": "stream",
     "text": [
      "로그인 페이지에 접근합니다.\n",
      "로그인 버튼을 클릭합니다.\n",
      "[]\n",
      "Number of products: 0\n"
     ]
    }
   ],
   "source": [
    "from selenium.webdriver import Chrome,ChromeOptions\n",
    "from selenium.webdriver.common.by import By\n",
    "\n",
    "USER = \"guswl78978\"\n",
    "PASS = \"tmakdl12!\"\n",
    "\n",
    "# 크롬 실행 --- (※1)\n",
    "options = ChromeOptions()\n",
    "options.add_argument('-headless')\n",
    "browser = Chrome(options=options)\n",
    "\n",
    "# 로그인 페이지에 접근 --- (※2)\n",
    "url_login = \"https://nid.naver.com/nidlogin.login\"\n",
    "browser.get(url_login)\n",
    "print(\"로그인 페이지에 접근합니다.\")\n",
    "\n",
    "# 텍스트 박스에 아이디와 비밀번호 입력 --- (※3)\n",
    "e = browser.find_element(\"name\",\"id\")\n",
    "e.clear()\n",
    "e.send_keys(\"guswl78978\")\n",
    "e = browser.find_element(\"name\",\"pw\")\n",
    "e.clear()\n",
    "e.send_keys(\"tmakdlf12!\")\n",
    "\n",
    "# 입력 양식 전송해서 로그인 --- (※4)\n",
    "form = browser.find_element(By.CSS_SELECTOR, \"[type=submit]\")\n",
    "form.submit()\n",
    "print(\"로그인 버튼을 클릭합니다.\")\n",
    "\n",
    "# 쇼핑 페이지의 데이터 가져오기 --- (※5)\n",
    "browser.get(\"https://order.pay.naver.com/home?tabMenu=SHOPPING\")\n",
    "\n",
    "# 쇼핑 목록 출력 --- (※6)\n",
    "products = browser.find_elements(By.CSS_SELECTOR,\".p_info span\")\n",
    "print(products)\n",
    "print(\"Number of products:\", len(products))\n",
    "\n",
    "for product in products:\n",
    "    print(\"-\", product.text)\n"
   ]
  },
  {
   "cell_type": "markdown",
   "id": "74748792",
   "metadata": {},
   "source": [
    "### 보안 때문에 직접 타이핑 쳐서 로그인하고 목록 보기 "
   ]
  },
  {
   "cell_type": "code",
   "execution_count": 52,
   "id": "af28687e",
   "metadata": {},
   "outputs": [
    {
     "name": "stdout",
     "output_type": "stream",
     "text": [
      "로그인 페이지에 접근합니다.\n",
      "로그인 버튼을 클릭합니다.\n"
     ]
    }
   ],
   "source": [
    "from selenium.webdriver.common.by import By\n",
    "from selenium.webdriver import Chrome\n",
    "USER = \"~~~\"\n",
    "PASS = \"~~~\"\n",
    "\n",
    "browser = Chrome()\n",
    "\n",
    "url_login = \"https://nid.naver.com/nidlogin.login\"\n",
    "browser.get(url_login)\n",
    "print(\"로그인 페이지에 접근합니다.\")\n",
    "\n",
    "e = browser.find_element(by=By.ID,value=\"id\")\n",
    "e.click()\n",
    "e.send_keys(USER)\n",
    "\n",
    "e = browser.find_element(by=By.ID,value=\"pw\")\n",
    "e.click()\n",
    "e.send_keys(PASS)\n",
    "\n",
    "form = browser.find_element(by=By.ID,value=\"log.login\")\n",
    "form.click()\n",
    "print(\"로그인 버튼을 클릭합니다.\")"
   ]
  },
  {
   "cell_type": "code",
   "execution_count": 53,
   "id": "a35e7db6",
   "metadata": {},
   "outputs": [
    {
     "name": "stdout",
     "output_type": "stream",
     "text": [
      "[<selenium.webdriver.remote.webelement.WebElement (session=\"b79f8557347f42fcbc4c231be077ea91\", element=\"C5C01F991BD29A54FF2254ABFE8446E5_element_152\")>, <selenium.webdriver.remote.webelement.WebElement (session=\"b79f8557347f42fcbc4c231be077ea91\", element=\"C5C01F991BD29A54FF2254ABFE8446E5_element_153\")>, <selenium.webdriver.remote.webelement.WebElement (session=\"b79f8557347f42fcbc4c231be077ea91\", element=\"C5C01F991BD29A54FF2254ABFE8446E5_element_154\")>, <selenium.webdriver.remote.webelement.WebElement (session=\"b79f8557347f42fcbc4c231be077ea91\", element=\"C5C01F991BD29A54FF2254ABFE8446E5_element_155\")>, <selenium.webdriver.remote.webelement.WebElement (session=\"b79f8557347f42fcbc4c231be077ea91\", element=\"C5C01F991BD29A54FF2254ABFE8446E5_element_156\")>, <selenium.webdriver.remote.webelement.WebElement (session=\"b79f8557347f42fcbc4c231be077ea91\", element=\"C5C01F991BD29A54FF2254ABFE8446E5_element_157\")>, <selenium.webdriver.remote.webelement.WebElement (session=\"b79f8557347f42fcbc4c231be077ea91\", element=\"C5C01F991BD29A54FF2254ABFE8446E5_element_158\")>, <selenium.webdriver.remote.webelement.WebElement (session=\"b79f8557347f42fcbc4c231be077ea91\", element=\"C5C01F991BD29A54FF2254ABFE8446E5_element_159\")>, <selenium.webdriver.remote.webelement.WebElement (session=\"b79f8557347f42fcbc4c231be077ea91\", element=\"C5C01F991BD29A54FF2254ABFE8446E5_element_160\")>, <selenium.webdriver.remote.webelement.WebElement (session=\"b79f8557347f42fcbc4c231be077ea91\", element=\"C5C01F991BD29A54FF2254ABFE8446E5_element_161\")>, <selenium.webdriver.remote.webelement.WebElement (session=\"b79f8557347f42fcbc4c231be077ea91\", element=\"C5C01F991BD29A54FF2254ABFE8446E5_element_162\")>, <selenium.webdriver.remote.webelement.WebElement (session=\"b79f8557347f42fcbc4c231be077ea91\", element=\"C5C01F991BD29A54FF2254ABFE8446E5_element_163\")>, <selenium.webdriver.remote.webelement.WebElement (session=\"b79f8557347f42fcbc4c231be077ea91\", element=\"C5C01F991BD29A54FF2254ABFE8446E5_element_164\")>, <selenium.webdriver.remote.webelement.WebElement (session=\"b79f8557347f42fcbc4c231be077ea91\", element=\"C5C01F991BD29A54FF2254ABFE8446E5_element_165\")>, <selenium.webdriver.remote.webelement.WebElement (session=\"b79f8557347f42fcbc4c231be077ea91\", element=\"C5C01F991BD29A54FF2254ABFE8446E5_element_166\")>, <selenium.webdriver.remote.webelement.WebElement (session=\"b79f8557347f42fcbc4c231be077ea91\", element=\"C5C01F991BD29A54FF2254ABFE8446E5_element_167\")>, <selenium.webdriver.remote.webelement.WebElement (session=\"b79f8557347f42fcbc4c231be077ea91\", element=\"C5C01F991BD29A54FF2254ABFE8446E5_element_168\")>, <selenium.webdriver.remote.webelement.WebElement (session=\"b79f8557347f42fcbc4c231be077ea91\", element=\"C5C01F991BD29A54FF2254ABFE8446E5_element_169\")>, <selenium.webdriver.remote.webelement.WebElement (session=\"b79f8557347f42fcbc4c231be077ea91\", element=\"C5C01F991BD29A54FF2254ABFE8446E5_element_170\")>]\n",
      "- 이동식 베드 테이블 이동데스크 사이드 노트북 테이블 책상 3colors\n",
      "- 브리츠 BZ-SP600X 컴퓨터 PC USB전원 2채널 커브드 ...\n",
      "- 선까지 완벽정리 무타공 멀티탭 거치대 콘센트 멀티탭정리함 케이블매니저\n",
      "- 린클 프라임 음식물 처리기 가정용 분쇄기 건조기 미생물\n",
      "- 린클 \n",
      "- 2023 WORLD DJ FESTIVAL\n",
      "- 2023 WORLD DJ FESTIVAL\n",
      "- 나도코딩의 자바 기본편 - 풀코스 (20시간)\n",
      "- 수제청 과일청 딸기청 생강청 레몬청 자몽청 답례품 선물세트\n",
      "- 모임수제청 \n",
      "- 수제청 과일청 딸기청 생강청 레몬청 자몽청 답례품 선물세트\n",
      "- 모임수제청 \n",
      "- 아이패드 거치대 마그네틱 스탠드 X&X 태블릿 자석 침대\n",
      "- 헤이퓨미 \n",
      "- 시외버스 티머니 승차권 (청주시외 - 동서울)\n",
      "- 로사나 호텔\n",
      "- TOEIC[정기][483]\n",
      "- 캠프레스 캠핑 BBQ\n",
      "- [2023 설날] 30일 프리패스\n"
     ]
    }
   ],
   "source": [
    "browser.get(\"https://order.pay.naver.com/home?tabMenu=SHOPPING\")\n",
    "\n",
    "products = browser.find_elements(By.CSS_SELECTOR,\".PaymentList_text__298zV\")\n",
    "print(products)\n",
    "for product in products:\n",
    "    print(\"-\", product.text)"
   ]
  },
  {
   "cell_type": "code",
   "execution_count": null,
   "id": "2ab29aea",
   "metadata": {},
   "outputs": [],
   "source": []
  },
  {
   "cell_type": "code",
   "execution_count": null,
   "id": "c64260ea",
   "metadata": {},
   "outputs": [],
   "source": []
  },
  {
   "cell_type": "code",
   "execution_count": null,
   "id": "411f16f4",
   "metadata": {},
   "outputs": [],
   "source": []
  },
  {
   "cell_type": "code",
   "execution_count": null,
   "id": "75ff7e1a",
   "metadata": {},
   "outputs": [],
   "source": []
  },
  {
   "cell_type": "code",
   "execution_count": null,
   "id": "b5fbdb54",
   "metadata": {},
   "outputs": [],
   "source": []
  },
  {
   "cell_type": "code",
   "execution_count": null,
   "id": "5880315e",
   "metadata": {},
   "outputs": [],
   "source": []
  },
  {
   "cell_type": "code",
   "execution_count": null,
   "id": "3d651d23",
   "metadata": {},
   "outputs": [],
   "source": []
  },
  {
   "cell_type": "code",
   "execution_count": null,
   "id": "1163c0e2",
   "metadata": {},
   "outputs": [],
   "source": []
  },
  {
   "cell_type": "code",
   "execution_count": null,
   "id": "45253b11",
   "metadata": {},
   "outputs": [],
   "source": []
  },
  {
   "cell_type": "code",
   "execution_count": null,
   "id": "2e4857b7",
   "metadata": {},
   "outputs": [],
   "source": []
  }
 ],
 "metadata": {
  "kernelspec": {
   "display_name": "Python 3 (ipykernel)",
   "language": "python",
   "name": "python3"
  },
  "language_info": {
   "codemirror_mode": {
    "name": "ipython",
    "version": 3
   },
   "file_extension": ".py",
   "mimetype": "text/x-python",
   "name": "python",
   "nbconvert_exporter": "python",
   "pygments_lexer": "ipython3",
   "version": "3.9.13"
  }
 },
 "nbformat": 4,
 "nbformat_minor": 5
}
